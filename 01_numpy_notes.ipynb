{
  "nbformat": 4,
  "nbformat_minor": 0,
  "metadata": {
    "colab": {
      "name": "01_numpy_notes.ipynb",
      "version": "0.3.2",
      "provenance": [],
      "include_colab_link": true
    },
    "kernelspec": {
      "name": "python3",
      "display_name": "Python 3"
    }
  },
  "cells": [
    {
      "cell_type": "markdown",
      "metadata": {
        "id": "view-in-github",
        "colab_type": "text"
      },
      "source": [
        "<a href=\"https://colab.research.google.com/github/Said-Akbar/Intro-to-Python/blob/master/01_numpy_notes.ipynb\" target=\"_parent\"><img src=\"https://colab.research.google.com/assets/colab-badge.svg\" alt=\"Open In Colab\"/></a>"
      ]
    },
    {
      "cell_type": "markdown",
      "metadata": {
        "id": "s3WidJF_UpFt",
        "colab_type": "text"
      },
      "source": [
        "<p><strong>Numpy </strong><span style=\"font-weight: 400;\">is a linear algebra library for python. All data sets are built and manipulated using </span><strong>numpy.</strong></p>\n",
        "<p><span style=\"font-weight: 400;\">Main usage for us will be </span><strong>vectors and matrices.</strong></p>\n",
        "<p><strong>Import numpy as np # </strong><span style=\"font-weight: 400;\">library declaration for us and python to use numpy.</span></p>\n",
        "<p><strong>my_list=[1,2,3] &rArr; arr=np.array(my_list) =&gt; array([1,2,3]) #</strong><span style=\"font-weight: 400;\"> lists can be converted into numpy for further manipulation purposes.</span></p>\n",
        "<p><span style=\"font-weight: 400;\">We can also create matrices:</span></p>\n",
        "<p><strong>my_matrix = [[1,2,3],[4,5,6],[7,8,9]] # </strong><span style=\"font-weight: 400;\">lists inside a list is used to create a 2d-matrix. </span><strong>Two brackets.</strong></p>\n",
        "<p><strong>np.array(my_matrix) # </strong><span style=\"font-weight: 400;\">Remember, </span><strong>array </strong><span style=\"font-weight: 400;\">method is used to convert data to an array of any type in </span><strong>numpy</strong><span style=\"font-weight: 400;\">. In this case,&nbsp; this creates a 3x3 matrix.</span></p>\n",
        "<p><strong>Numpy methods.</strong></p>\n",
        "<p><strong>arange. </strong><span style=\"font-weight: 400;\">This method is useful in creating an evenly spaced array.</span></p>\n",
        "<p><strong>np.arange(0,10,2) =&gt; </strong><strong>array([ 0,&nbsp; 2, 4, 6, 8, 10])</strong></p>\n",
        "<p><span style=\"font-weight: 400;\">(Start, stop, step) The third parameter step is used to specify the step for each element. Step is 1 by default.</span></p>\n",
        "<p>&nbsp;</p>\n",
        "<p><strong>Zeros. </strong><span style=\"font-weight: 400;\">Creates an array of zeros with a size of n.</span></p>\n",
        "<p><strong>np.zeros(3) </strong><span style=\"font-weight: 400;\"># =&gt; </span><span style=\"font-weight: 400;\">array([0., 0., 0.])</span></p>\n",
        "<p><strong>np.zeros((5,5)) #</strong><span style=\"font-weight: 400;\"> creates a 5x5 matrix with zeros.</span></p>\n",
        "<p>&nbsp;</p>\n",
        "<p><strong>Ones. </strong><span style=\"font-weight: 400;\">creates an array of ones with size of n.</span></p>\n",
        "<p><strong>np.ones(3) =&gt; </strong><span style=\"font-weight: 400;\">a</span><span style=\"font-weight: 400;\">rray([1., 1., 1.])</span></p>\n",
        "<p><strong>np.ones((3,3)) =&gt; </strong><span style=\"font-weight: 400;\">creates a 5x5 matrix with ones</span></p>\n",
        "<p>&nbsp;</p>\n",
        "<p><span style=\"font-weight: 400;\">Other numbers can be created by multiplying the matrix of ones by a number:</span></p>\n",
        "<p><strong>np.ones(3)*2 =&gt; </strong><strong>array([2., 2., 2.])</strong></p>\n",
        "<p>&nbsp;</p>\n",
        "<p><strong>Linspace. </strong><span style=\"font-weight: 400;\">This also returns an evenly spaced array for a given interval, only with the number of elements specified, </span><strong>not steps</strong><span style=\"font-weight: 400;\"> specified.&nbsp;</span></p>\n",
        "<p><strong>np.linspace(0,10,3) =&gt; </strong><strong>array([ 0.,&nbsp; 5., 10.]) # </strong><span style=\"font-weight: 400;\">third parameter can be changed to any desired value.</span></p>\n",
        "<p>&nbsp;</p>\n",
        "<p><strong>Eyes. </strong><span style=\"font-weight: 400;\">creates an identity matrix.</span></p>\n",
        "<p><strong>np.eye(4) =&gt; </strong><span style=\"font-weight: 400;\">creates a 4x4 identity matrix.</span></p>\n",
        "<p><strong>Random.</strong><span style=\"font-weight: 400;\">&nbsp;</span></p>\n",
        "<p><span style=\"font-weight: 400;\">Importing a specific library instead of the whole numpy library:</span></p>\n",
        "<p><strong>import numpy.random as rd</strong></p>\n",
        "<p><strong>print(rd.randn(5,5))</strong></p>\n",
        "<p>&nbsp;</p>\n",
        "<p><strong>Rand. </strong><span style=\"font-weight: 400;\">creates a random elements from uniform distribution (0...1) for an array with a specified size. </span><strong>&nbsp;np.random.rand(2) =&gt; </strong><span style=\"font-weight: 400;\">array([0.10455531, 0.31851922])</span></p>\n",
        "<p><strong>np.random.rand(5,5) =&gt; </strong><span style=\"font-weight: 400;\">creates a 5x5 matrix with random numbers. Remember, rand is not accepting tuple, it is only accepting 5,5 (other methods use </span><strong>tuple</strong><span style=\"font-weight: 400;\">).</span></p>\n",
        "<p>&nbsp;</p>\n",
        "<p><strong>Randn. </strong><span style=\"font-weight: 400;\">Creates random elements from a normal distribution.</span></p>\n",
        "<p><strong>np.random.randn(2) =&gt; </strong><strong>array([-0.21748604,&nbsp; 0.59753933])</strong></p>\n",
        "<p><strong>np.random.randn(5,5) =&gt; </strong><span style=\"font-weight: 400;\">5x5 matrix</span></p>\n",
        "<p>&nbsp;</p>\n",
        "<p><strong>randint. </strong><span style=\"font-weight: 400;\">This is used for generating </span><strong>n</strong><span style=\"font-weight: 400;\"> random integer numbers between a specified interval.</span></p>\n",
        "<p><strong>np.random.randint(1,100,10) </strong><span style=\"font-weight: 400;\">=&gt; </span><span style=\"font-weight: 400;\">array([10, 12, 47, 95,&nbsp; 1, 46, 28, 87, 32, 83])</span></p>\n",
        "<p><span style=\"font-weight: 400;\">The generated array will have 10 random numbers between 1 and 99 included, </span><strong>100 excluded</strong><span style=\"font-weight: 400;\">.</span></p>\n",
        "<p>&nbsp;</p>\n",
        "<p><strong>Arange. </strong><span style=\"font-weight: 400;\">Creates a sequence of numbers from zero up to a specified number (excluded).</span></p>\n",
        "<p><span style=\"font-weight: 400;\">&nbsp;&nbsp;</span><strong>arr = np.arange(10)</strong><span style=\"font-weight: 400;\"> =&gt; </span><span style=\"font-weight: 400;\">array([0, 1, 2, 3, 4, 5, 6, 7, 8, 9])</span></p>\n",
        "<p>&nbsp;</p>\n",
        "<p><strong>Choice</strong><strong>. </strong><span style=\"font-weight: 400;\">Creates a random sample of n elements from an existing list.</span></p>\n",
        "<p><strong>&nbsp;arr = np.arange(100)</strong></p>\n",
        "<p><strong>ranarr=np.random.choice(arr, 10) </strong><span style=\"font-weight: 400;\">=&gt;</span> <strong>array([66, 42, 13, 45, 16, 22, 78, 47,&nbsp; 5, 98])</strong></p>\n",
        "<p>&nbsp;</p>\n",
        "<p><strong>Reshape. </strong><span style=\"font-weight: 400;\">Helps to reshape the array into different sized matrices.</span></p>\n",
        "<p><strong>arr=np.arange(4)&nbsp; #</strong><span style=\"font-weight: 400;\"> number of elements should be appropriate for making a matrix.</span></p>\n",
        "<p><strong>arr.reshape(2,2)</strong></p>\n",
        "<p><span style=\"font-weight: 400;\">=&gt; array([[0, 1],</span><span style=\"font-weight: 400;\"><br /></span><span style=\"font-weight: 400;\"> &nbsp; &nbsp; &nbsp; &nbsp; [2, 3]])</span></p>\n",
        "<p><strong>Array max.</strong></p>\n",
        "<p><strong>ranarr=</strong><strong>array([66, 42, 13, 45, 16, 22, 78, 47,&nbsp; 5, 98])</strong></p>\n",
        "<p><strong>ranarr.max() =&gt; 98 # </strong><span style=\"font-weight: 400;\">returns max value from the array.</span></p>\n",
        "<p><strong>ranarr.argmax() =&gt; 9 # </strong><span style=\"font-weight: 400;\">returns max value&rsquo;s index in the array.</span></p>\n",
        "<p><strong>Array min.</strong></p>\n",
        "<p><strong>ranarr.min() =&gt; 5 #</strong><span style=\"font-weight: 400;\">min value</span></p>\n",
        "<p><strong>ranarr.argmin() =&gt; 8 # </strong><span style=\"font-weight: 400;\">index of min value</span></p>\n",
        "<p><br /><br /></p>\n",
        "<p><strong>Shape. </strong><span style=\"font-weight: 400;\">Returns the size of a matrix.</span></p>\n",
        "<p><strong>arr1= np.arange(5)</strong></p>\n",
        "<p><strong>arr1.shape #</strong><span style=\"font-weight: 400;\">without parenthesis. (5,)</span></p>\n",
        "<p>&nbsp;</p>\n",
        "<p><strong>arr1= np.arange(12).reshape(3,4)</strong></p>\n",
        "<p><strong>Arr1.shape =&gt; </strong><span style=\"font-weight: 400;\">(3,4)</span></p>\n",
        "<p>&nbsp;</p>\n",
        "<p><strong>dtype. </strong><span style=\"font-weight: 400;\">This shows data type of an array:</span></p>\n",
        "<p><span style=\"font-weight: 400;\">dtype('int64')</span></p>\n",
        "<p><span style=\"font-weight: 400;\">Notes</span></p>\n",
        "<p><strong>Random Seed. </strong><span style=\"font-weight: 400;\">Sets all the random numbers to be predetermined by a given number. So, using seed will ensure that in all runs we will get the same random numbers.</span></p>\n",
        "<p><strong>np.random.seed(101)&nbsp;</strong></p>\n",
        "<p><strong>np.random.randint(1,100, 5) </strong><span style=\"font-weight: 400;\">=&gt;&nbsp; array([96, 12, 82, 71, 64])</span></p>"
      ]
    },
    {
      "cell_type": "markdown",
      "metadata": {
        "id": "gMkpyl0KVOli",
        "colab_type": "text"
      },
      "source": [
        "<p><span style=\"font-weight: 400;\">We can perform arithmetic math operations in matrices.</span></p>\n",
        "<p>&nbsp;</p>\n",
        "<p><strong>Import numpy as np &rArr; arr=np.arange(0,11)</strong></p>\n",
        "<p><strong>arr+arr </strong><span style=\"font-weight: 400;\">=&gt; array([ 0,&nbsp; 2, 4, 6, 8, 10, 12, 14, 16, 18, 20])</span></p>\n",
        "<p><strong>arr+100</strong><span style=\"font-weight: 400;\"> =&gt; </span><span style=\"font-weight: 400;\">array([100, 101, 102, 103, 104, 105, 106, 107, 108, 109, 110])</span></p>\n",
        "<p><span style=\"font-weight: 400;\">Numpy array divided by zero will still give results, only the element divided by zero will be nan or inf.</span></p>\n",
        "<p>&nbsp;</p>\n",
        "<p><strong>sqrt</strong><span style=\"font-weight: 400;\"> on each element:</span><strong> np.sqrt(arr) =&gt; </strong><strong>array([0., 1., 1.41421356, 1.73205081, 2.,2.23606798, 2.44948974, 2.64575131, 2.82842712, 3., 3.16227766])</strong></p>\n",
        "<p><strong>Max </strong><span style=\"font-weight: 400;\">of array: </span><strong>np.max(arr) =&gt; 10</strong></p>\n",
        "<p><span style=\"font-weight: 400;\">We can perform trigonometric operations and more as well. Above are only for most use cases</span><span style=\"font-weight: 400;\">.&nbsp;&nbsp;</span></p>\n",
        "<p>&nbsp;</p>\n",
        "<p><span style=\"font-weight: 400;\">Comments:</span></p>\n",
        "<p><span style=\"font-weight: 400;\">Preventing zero division, raising an error:</span></p>"
      ]
    },
    {
      "cell_type": "code",
      "metadata": {
        "id": "kObixftGWIyv",
        "colab_type": "code",
        "colab": {}
      },
      "source": [
        "logger = logging.getLogger(__name__)\n",
        " \n",
        "try:\n",
        "   do_something_in_app_that_breaks_easily()\n",
        "except AppError as error:\n",
        "   logger.error(error)\n",
        "   raise                 # Just this!\n",
        "   # raise AppError      # Don't do this, you'll lose the stack trace!\n"
      ],
      "execution_count": 0,
      "outputs": []
    }
  ]
}