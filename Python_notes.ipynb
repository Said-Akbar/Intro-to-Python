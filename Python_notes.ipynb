{
  "nbformat": 4,
  "nbformat_minor": 0,
  "metadata": {
    "kernelspec": {
      "display_name": "Python 3",
      "language": "python",
      "name": "python3"
    },
    "language_info": {
      "codemirror_mode": {
        "name": "ipython",
        "version": 3
      },
      "file_extension": ".py",
      "mimetype": "text/x-python",
      "name": "python",
      "nbconvert_exporter": "python",
      "pygments_lexer": "ipython3",
      "version": "3.6.2"
    },
    "colab": {
      "name": "Copy of 02-Python Crash Course Exercises.ipynb",
      "version": "0.3.2",
      "provenance": [],
      "collapsed_sections": [],
      "include_colab_link": true
    }
  },
  "cells": [
    {
      "cell_type": "markdown",
      "metadata": {
        "id": "view-in-github",
        "colab_type": "text"
      },
      "source": [
        "<a href=\"https://colab.research.google.com/github/Said-Akbar/Intro-to-Python/blob/master/Python_notes.ipynb\" target=\"_parent\"><img src=\"https://colab.research.google.com/assets/colab-badge.svg\" alt=\"Open In Colab\"/></a>"
      ]
    },
    {
      "cell_type": "markdown",
      "metadata": {
        "id": "PsgNSiU4M8UZ",
        "colab_type": "text"
      },
      "source": [
        "\n",
        "# Introduction to Python with my Notes \n",
        "I will post my notes for each topic from the Python for DS and ML course by Jose Portilla, which I am taking at the moment along with other Data Science (DS) courses. These are very basic introductory notes and should be considered by those who are new to DS.\n",
        "The notes are taken by me during my learning sessions."
      ]
    },
    {
      "cell_type": "markdown",
      "metadata": {
        "id": "9IL3zJuBNCYy",
        "colab_type": "text"
      },
      "source": [
        "##Notes\n",
        "<p><strong>Data types</strong><span style=\"font-weight: 400;\">: integer 4, 5, 6 ..., floating point: 4.5, 6.7, 8.554545.</span></p>\n",
        "<p><strong>Operations order: </strong><span style=\"font-weight: 400;\">parenthesis, powers, multipctn, division, add, subtract.</span></p>\n",
        "<p><strong>Raising </strong><span style=\"font-weight: 400;\">to the power: </span><strong>4**2</strong><span style=\"font-weight: 400;\"> =&gt; 16</span></p>\n",
        "<p><strong>Assign number to a varbl.: </strong><span style=\"font-weight: 400;\">&nbsp;</span><strong>var=5</strong><span style=\"font-weight: 400;\">; </span><strong>var*2 </strong><span style=\"font-weight: 400;\">=&gt; 10;</span></p>\n",
        "<p><strong>Mod: </strong><span style=\"font-weight: 400;\">shows the remainder after dividing by a number: </span><strong>4%2 </strong><span style=\"font-weight: 400;\">=&gt; 0; </span><strong>5%2</strong><span style=\"font-weight: 400;\"> =&gt; 1; </span><strong>5%7 </strong><span style=\"font-weight: 400;\">=&gt; 5;</span></p>\n",
        "<p><strong>Names of var. </strong><span style=\"font-weight: 400;\">Should not start with numbers or signs. Use letters to start var.names. To separate names do not use dot, use underscore: </span><strong>x_1, x_2</strong><span style=\"font-weight: 400;\">.</span></p>\n",
        "<p><strong>Comment </strong><span style=\"font-weight: 400;\">start with </span><strong>#</strong><span style=\"font-weight: 400;\"> hashtag.</span></p>\n",
        "<p><strong>Strings </strong><span style=\"font-weight: 400;\">are used with single quote or double quote depending on what you are typing. E.g.</span><strong> &lsquo;hello&rsquo;, &ldquo;this won&rsquo;t be an error&rdquo;. </strong><span style=\"font-weight: 400;\">&nbsp;If you want to use quote sign, use with \\ sign: </span><strong>'This isn\\'t an error'</strong><span style=\"font-weight: 400;\">.</span></p>\n",
        "<p><strong>String assignment.&nbsp; </strong><span style=\"font-weight: 400;\">Use usual assignment: </span><strong>x = 'hello'. print(x) </strong><span style=\"font-weight: 400;\">=&gt; hello.</span></p>\n",
        "<p><strong>Formatting print with string.&nbsp;</strong></p>\n",
        "<p><strong>num = 12</strong></p>\n",
        "<p><strong>name = 'Sam'</strong></p>\n",
        "<p><strong>print('My number is: {one}, and my name is: {two}'.format(one=num,two=name)) </strong><span style=\"font-weight: 400;\">#or</span></p>\n",
        "<p><strong>print('My number is: {}, and my name is: {}'.format(num,name))</strong></p>\n",
        "<p><span style=\"font-weight: 400;\">Both results are the same. First one can become useful in changing variable names in loops and not worrying about the text(you can also use </span><strong>numbers inside {}</strong><span style=\"font-weight: 400;\"> to refer to variables as indices in format()). Second one prints variables in the order they were written inside format().</span></p>\n",
        "<p><strong>Indexing </strong><span style=\"font-weight: 400;\">starts with </span><strong>zero </strong><span style=\"font-weight: 400;\">in Python. We can grab elements of string:</span></p>\n",
        "<p><strong>s=&rsquo;hello&rsquo; </strong><span style=\"font-weight: 400;\">&rArr; </span><strong>s[0]</strong><span style=\"font-weight: 400;\"> =&gt; &lsquo;h&rsquo;</span></p>\n",
        "<p><strong>Slicing syntax </strong><span style=\"font-weight: 400;\">is useful for grabbing part of the strings:</span></p>\n",
        "<p><span style=\"font-weight: 400;\">&nbsp;</span><strong>s[1:] </strong><span style=\"font-weight: 400;\">=&gt; &lsquo;ello&rsquo; # starts from the element two, index 1. </span></p>\n",
        "<p><strong>&nbsp;s[:3] </strong><span style=\"font-weight: 400;\">=&gt; &lsquo;hel&rsquo; # this grabs strings up to index 3, but not including 3rd index.</span></p>\n",
        "<p><strong>&nbsp;s[1:3] </strong><span style=\"font-weight: 400;\">=&gt; &lsquo;el&rsquo; # slices from both sides.</span></p>\n",
        "<p>&nbsp;</p>\n",
        "<p><strong>Lists</strong></p>\n",
        "<p><span style=\"font-weight: 400;\">List is a sequence of elements separated by comma in a square bracket.</span></p>\n",
        "<p><strong>a=[1,2,3]</strong><span style=\"font-weight: 400;\"> # it can also be strings &rArr; </span><strong>b=[&lsquo;a&rsquo;,&rsquo;b&rsquo;,&rsquo;c&rsquo;]</strong></p>\n",
        "<p><strong>Append</strong><strong>. </strong><span style=\"font-weight: 400;\">To add an element to the existing list, use </span><strong>append </strong><span style=\"font-weight: 400;\">method:</span></p>\n",
        "<p><strong>b.append(&lsquo;d&rsquo;) </strong><span style=\"font-weight: 400;\">=&gt; ['a', 'b', 'c', 'd']</span></p>\n",
        "<p><strong>List indexing </strong><span style=\"font-weight: 400;\">works the same as string indexing: </span><strong>b[2] </strong><span style=\"font-weight: 400;\">=&gt; &lsquo;c&rsquo;.&nbsp;</span></p>\n",
        "<p><strong>Slicing</strong><span style=\"font-weight: 400;\"> is the same as string: </span><strong>b[2:] </strong><span style=\"font-weight: 400;\">=&gt; </span><span style=\"font-weight: 400;\">['c', 'd']</span></p>\n",
        "<p><strong>Changing an element in the existing list: b[0]= &lsquo;NEW&rsquo; </strong><span style=\"font-weight: 400;\">=&gt; </span><span style=\"font-weight: 400;\">['NEW', 'b', 'c', 'd']</span></p>\n",
        "<p><strong>List inside a list.&nbsp;</strong></p>\n",
        "<p><strong>nest = [1,2,3,[4,5,['target']]] &rArr; nest[3][2] </strong><span style=\"font-weight: 400;\">=&gt; </span><span style=\"font-weight: 400;\">['target']</span></p>\n",
        "<p><strong>Nest[3][2][0] </strong><span style=\"font-weight: 400;\">=&gt; &lsquo;target&rsquo;;</span></p>"
      ]
    },
    {
      "cell_type": "markdown",
      "metadata": {
        "id": "sYbMw23HOILc",
        "colab_type": "text"
      },
      "source": [
        "<p><strong>Dictionary</strong> <span style=\"font-weight: 400;\">has key and value pairs. They are used as hash tables like in real dictionary where you look for specific keys (letter) and check what it means (values).&nbsp;</span></p>\n",
        "<p><strong>d = {'key1':'item1','key2':'item2'}</strong></p>\n",
        "<p><span style=\"font-weight: 400;\">Elements of the dictionary can be called using its </span><strong>keys: d['key1'] </strong><span style=\"font-weight: 400;\">=&gt; &lsquo;item1&rsquo;</span></p>\n",
        "<p><span style=\"font-weight: 400;\">Keys can be integers but keys should always be unique, not repeated.</span></p>\n",
        "<p><strong>Values </strong><span style=\"font-weight: 400;\">of the list can be any data type: list, string, numbers.&nbsp;</span></p>\n",
        "<p><strong>d['key1']= [1,2,3,4] </strong><span style=\"font-weight: 400;\">=&gt; </span><span style=\"font-weight: 400;\">{'key1': [1, 2, 3, 4], 'key2': 'item2'}</span></p>\n",
        "<p><span style=\"font-weight: 400;\">We can assign d['key1'] to a list as well. </span><strong>Remember, </strong><span style=\"font-weight: 400;\">dictionary always has a key-value pair. Value can be any data type including another </span><strong>dictionary</strong><span style=\"font-weight: 400;\">.</span></p>\n",
        "<p><span style=\"font-weight: 400;\">Each element is called using only key name: </span><strong>d2={'key1':{'innerkey':[1,2,3]}}</strong></p>\n",
        "<p><strong>d2['key1']['innerkey'][1] </strong><span style=\"font-weight: 400;\">=&gt; 2 # grabs innerkey&rsquo;s second element with index 1</span></p>\n",
        "<p><span style=\"font-weight: 400;\">There is </span><strong>no order </strong><span style=\"font-weight: 400;\">in dictionary.</span></p>\n",
        "<p>&nbsp;</p>\n",
        "<p><strong>Tuples</strong><strong> (aka immutable lists)</strong></p>\n",
        "<p><span style=\"font-weight: 400;\">Tuples are just like lists, but instead of square bracket, we use parenthesis:</span></p>\n",
        "<p><strong>t = (1,2,3) &rArr; t[0] =&gt; 1</strong></p>\n",
        "<p><span style=\"font-weight: 400;\">The only difference between lists and tuples is that tuples are immutable - they can not change after assignment: </span><strong>t[0]=&rsquo;New&rsquo; </strong><span style=\"font-weight: 400;\">=&gt; error. t is assigned to a tuple and thus, it can&rsquo;t be changed.</span></p>\n",
        "<p><strong>Remember, </strong><span style=\"font-weight: 400;\">tuples can have any number of elements, not just two. Tuples are </span><strong>ordered</strong><span style=\"font-weight: 400;\">.</span></p>\n",
        "<p>&nbsp;</p>\n",
        "<p><strong>Set</strong></p>\n",
        "<p><span style=\"font-weight: 400;\">Set returns unique elements from a list. Curly brackets are used for defining sets: {</span><strong>1,2,3,1,2,1,2,3,3,3,3,2,2,2,1,1,2} </strong><span style=\"font-weight: 400;\">=&gt; {1,2,3}&nbsp;</span></p>\n",
        "<p><strong>set([1,2,3,1,2,1,2,3,3,3,3,2,2,2,1,1,2</strong><span style=\"font-weight: 400;\">]) =&gt; {1,2,3} # can be list name inside set().</span></p>\n",
        "<p><span style=\"font-weight: 400;\">Adding an element: </span><strong>s= {1,2,3,4} </strong><span style=\"font-weight: 400;\">&rArr;&nbsp; </span><strong>set.add(5) </strong><span style=\"font-weight: 400;\">=&gt; {1,2,3,4,5}&nbsp;</span></p>\n",
        "<p><span style=\"font-weight: 400;\">Sets are </span><strong>unordered</strong><span style=\"font-weight: 400;\">.</span></p>\n",
        "<p><strong>Boolean</strong><strong>&nbsp;</strong></p>\n",
        "<p><span style=\"font-weight: 400;\">There are comparison operators for checking if the expression is true or false:</span></p>\n",
        "<p><strong>1&gt;2 </strong><span style=\"font-weight: 400;\">#False &rArr; </span> <strong>1&lt;2 </strong><span style=\"font-weight: 400;\">#True &rArr;&nbsp;</span></p>\n",
        "<p><strong>1&gt;=1</strong><span style=\"font-weight: 400;\"> #True &rArr;</span> <strong>1&lt;=4 </strong><span style=\"font-weight: 400;\">#True &rArr;&nbsp;</span></p>\n",
        "<p><strong>1==1 #</strong><span style=\"font-weight: 400;\">True &rArr;</span> <strong>1!=2 #</strong><span style=\"font-weight: 400;\">True &rArr;</span> <strong>&lsquo;abc&rsquo;==&rsquo;def&rsquo; #</strong><span style=\"font-weight: 400;\">False</span></p>\n",
        "<p><strong>and/or</strong></p>\n",
        "<p><span style=\"font-weight: 400;\">When using </span><strong>and </strong><span style=\"font-weight: 400;\">operator both conditions have to be true to result in &lsquo;</span><strong>true&rsquo;:</strong></p>\n",
        "<p><strong>1&gt;2 and 2&gt;1 #</strong><span style=\"font-weight: 400;\">False &rArr;</span> <strong>1&lt;2 and 2&gt;1 #</strong><span style=\"font-weight: 400;\">True</span></p>\n",
        "<p><strong>Or </strong><span style=\"font-weight: 400;\">requires only one condition to be true to result in</span><strong> &lsquo;true&rsquo;:</strong></p>\n",
        "<p><strong>(1 &gt; 2) or (2 &lt; 3) #</strong><span style=\"font-weight: 400;\">True</span></p>\n",
        "<p><strong>(1 == 2) or (2 == 3) or (4 == 4) #</strong><span style=\"font-weight: 400;\">True</span></p>\n",
        "<p><strong>Remember, </strong><span style=\"font-weight: 400;\">&nbsp;you can assign these expressions to a variable: </span><strong>a = (1 &gt; 2) or (2 &lt; 3)</strong> <strong>&nbsp;</strong></p>\n",
        "<p><br /><br /></p>\n",
        "<p><strong>If/else</strong></p>\n",
        "<p><span style=\"font-weight: 400;\">If the statement is executed when the expression following </span><strong>&lsquo;if&rsquo; </strong><span style=\"font-weight: 400;\">is true:</span></p>\n",
        "<p><strong>if 1 &lt; 2:</strong> <strong>#</strong><span style=\"font-weight: 400;\"> this is true, so next line is executed</span></p>\n",
        "<p><strong>&nbsp;&nbsp;&nbsp;&nbsp;print('Yep!') # remember, </strong><span style=\"font-weight: 400;\">&nbsp;if does not require any parenthesis, single &lsquo;tab&rsquo; is used instead.</span></p>\n",
        "<p><span style=\"font-weight: 400;\">------------------------------------------------------------------------------------------------</span></p>\n",
        "<p><strong>if 1 &lt; 2:</strong></p>\n",
        "<p><strong>&nbsp;&nbsp;&nbsp;&nbsp;print('first')</strong></p>\n",
        "<p><strong>else:</strong></p>\n",
        "<p><strong>&nbsp;&nbsp;&nbsp;&nbsp;print('last') #</strong><span style=\"font-weight: 400;\">else is executed whenever the condition is false.</span></p>\n",
        "<p><span style=\"font-weight: 400;\">We can check for more than one condition using </span><strong>elif:</strong></p>\n",
        "<p><strong>if 1 == 2:</strong></p>\n",
        "<p><strong>&nbsp;&nbsp;&nbsp;&nbsp;print('first')</strong></p>\n",
        "<p><strong>elif 3 == 3:</strong></p>\n",
        "<p><strong>&nbsp;&nbsp;&nbsp;&nbsp;print('middle')</strong></p>\n",
        "<p><strong>elif 4==4:</strong></p>\n",
        "<p><strong>&nbsp;&nbsp;&nbsp;print('middle2')</strong></p>\n",
        "<p><strong>else:</strong></p>\n",
        "<p><strong>&nbsp;&nbsp;&nbsp;&nbsp;print('Last')</strong> <strong>=&gt; </strong><span style=\"font-weight: 400;\">&lsquo;middle&rsquo;</span></p>\n",
        "<p><span style=\"font-weight: 400;\">Remember, in if statements with multiple conditions, the expression is executed until the first &lsquo;true&rsquo; condition. In above case, </span><strong>elif 3==3</strong><span style=\"font-weight: 400;\"> satisfies the &lsquo;true&rsquo; condition and stops executing other conditions. Thus, although 4==4 is true, it is not performed. </span></p>"
      ]
    },
    {
      "cell_type": "markdown",
      "metadata": {
        "id": "uS4X6B39OR-K",
        "colab_type": "text"
      },
      "source": [
        "<p><strong>For/while loops</strong></p>\n",
        "<p>&nbsp;</p>\n",
        "<p><strong>For</strong> <span style=\"font-weight: 400;\">follows a sequence of some list until it reaches the last element.</span></p>\n",
        "<p><strong>seq = [1,2,3,4,5]</strong></p>\n",
        "<p><strong>for </strong><strong><em>item</em></strong><strong> in seq: #</strong><span style=\"font-weight: 400;\">item is any var name (used as a counter for running through each element of seq).</span></p>\n",
        "<p><strong>&nbsp;&nbsp;&nbsp;&nbsp;print(item) # </strong><span style=\"font-weight: 400;\">=&gt; 1 2 3 4 5 each in a separate line</span></p>\n",
        "<p><strong>for item in seq:</strong></p>\n",
        "<p><strong>&nbsp;&nbsp;&nbsp;&nbsp;print(item+item) =&gt; </strong><span style=\"font-weight: 400;\">2 4 6 8 10</span></p>\n",
        "<p><br /><strong><br /></strong></p>\n",
        "<p><strong>While</strong> <span style=\"font-weight: 400;\">loop</span><span style=\"font-weight: 400;\">. </span> <strong># output =&gt;</strong></p>\n",
        "<p><strong>i = 1</strong></p>\n",
        "<p><strong>while i &lt; 5:</strong></p>\n",
        "<p><strong>&nbsp;&nbsp;&nbsp;&nbsp;print('i is: {}'.format(i))</strong></p>\n",
        "<p><strong>&nbsp;&nbsp;&nbsp;&nbsp;i = i+1</strong></p>\n",
        "<p>&nbsp;</p>\n",
        "<p><strong>i is: 1</strong><strong><br /></strong><strong>i is: 2</strong><strong><br /></strong><strong>i is: 3</strong><strong><br /></strong><strong>i is: 4</strong><strong><br /></strong></p>\n",
        "<p><span style=\"font-weight: 400;\">When i is 5, the condition 5&lt;5 is not true, so the loop stops.</span></p>\n",
        "<p>&nbsp;</p>\n",
        "<p><strong>Range</strong><strong>. </strong><span style=\"font-weight: 400;\">It is used to generate a sequence of numbers.</span></p>\n",
        "<p><strong>range(5) </strong><span style=\"font-weight: 400;\"># creates 5 elements 0,1,2,3,4.</span></p>\n",
        "<p>&nbsp;</p>\n",
        "<p><strong>for i in range(5):</strong></p>\n",
        "<p><strong>&nbsp;&nbsp;&nbsp;&nbsp;print(i) </strong><span style=\"font-weight: 400;\">=&gt; 0 1 2 3 4;</span></p>\n",
        "<p><strong>list(range(5)) =&gt;</strong><span style=\"font-weight: 400;\"> [0,1,2,3,4]</span></p>\n",
        "<p>&nbsp;</p>\n",
        "<p><strong>List comprehension</strong></p>\n",
        "<p><span style=\"font-weight: 400;\">Instead of changing elements of a list one by one, we can use list comprehension:</span></p>\n",
        "<p><strong>x = [1,2,3,4]</strong></p>\n",
        "<p><strong># long way</strong></p>\n",
        "<p><strong>out = []</strong></p>\n",
        "<p><strong>for item in x:</strong></p>\n",
        "<p><strong>&nbsp;&nbsp;&nbsp;&nbsp;out.append(item**2)</strong></p>\n",
        "<p><strong>print(out)</strong></p>\n",
        "<p><span style=\"font-weight: 400;\"># short easy way</span><span style=\"font-weight: 400;\"><br /></span></p>\n",
        "<p><strong>[item**2 for item in x] =&gt; </strong><span style=\"font-weight: 400;\">[1,4,9,16]</span></p>\n",
        "<p>&nbsp;</p>\n",
        "<p><strong>Function</strong></p>\n",
        "<p><span style=\"font-weight: 400;\">Instead of using the same part of code again and again, we can create a function to reuse it in the code.</span></p>\n",
        "<p><strong>def my_func(param1='default'):</strong></p>\n",
        "<p><strong>&nbsp;&nbsp;&nbsp;&nbsp;\"\"\"</strong></p>\n",
        "<p><strong>&nbsp;&nbsp;&nbsp;&nbsp;Docstring goes here.</strong></p>\n",
        "<p><strong>&nbsp;&nbsp;&nbsp;&nbsp;\"\"\"</strong></p>\n",
        "<p><strong>&nbsp;&nbsp;&nbsp;&nbsp;print(param1)</strong></p>\n",
        "<p><span style=\"font-weight: 400;\">Triple quote is used for documentation and can be called after typing the function name and </span><strong>shift+alt. </strong><span style=\"font-weight: 400;\">All functions have such a docstring, useful for yourself as well.</span></p>\n",
        "<p><strong>param1 </strong><span style=\"font-weight: 400;\">can accept any data type, and if it did not receive any data, then prints out the &lsquo;default&rsquo; value.</span></p>\n",
        "<p><strong>my_func() </strong><span style=\"font-weight: 400;\">=&gt; &lsquo;default&rsquo; &rArr;</span><strong> my_func(&lsquo;hi&rsquo;) =&gt;</strong><span style=\"font-weight: 400;\"> &lsquo;hi&rsquo;</span></p>\n",
        "<p><span style=\"font-weight: 400;\">We can also make functions that return values:</span></p>\n",
        "<p><strong>def square(x):</strong></p>\n",
        "<p><strong>&nbsp;&nbsp;&nbsp;&nbsp;return x**2</strong></p>\n",
        "<p><strong>square(4) =&gt;</strong><span style=\"font-weight: 400;\"> 16;</span></p>"
      ]
    },
    {
      "cell_type": "markdown",
      "metadata": {
        "id": "Cpdtmh7aPJ7j",
        "colab_type": "text"
      },
      "source": [
        "<p><strong>map.</strong> <span style=\"font-weight: 400;\">It performs some functions for a given sequence (e.g. list). If we want to </span><strong>square </strong><span style=\"font-weight: 400;\">each of the elements of </span><strong>seq=[1,2,3,4] </strong><span style=\"font-weight: 400;\">then we can use map: x=</span><strong>map(square, seq) &rArr; list(x) =&gt;</strong><span style=\"font-weight: 400;\"> [1,4,9,16].</span></p>\n",
        "<p><span style=\"font-weight: 400;\">Literally, map means &lsquo;</span><em><span style=\"font-weight: 400;\">map </span></em><strong><em>square </em></strong><em><span style=\"font-weight: 400;\">function to the </span></em><strong><em>seq</em></strong><em><span style=\"font-weight: 400;\">uence&rsquo;.</span></em></p>\n",
        "<p>&nbsp;</p>\n",
        "<p><strong>lambda function.</strong> <span style=\"font-weight: 400;\">When you want to use a function only once, you don&rsquo;t need to </span><strong>def</strong><span style=\"font-weight: 400;\">ine it separately. You can instead use lambda function which is only used only in the line it is written.</span></p>\n",
        "<p><strong>Square </strong><span style=\"font-weight: 400;\">function could be replaced as: </span><strong>lambda num: num**2</strong><span style=\"font-weight: 400;\"> &rArr; </span><strong>x=map(lambda num: num**2, seq)</strong><span style=\"font-weight: 400;\">. So, lambda is anonymous function which can be used in one line. By default, lambda does not return any value, you can map it to a sequence.</span></p>\n",
        "<p>&nbsp;</p>\n",
        "<p><strong>Filter function.</strong> <span style=\"font-weight: 400;\">Similar to map function but only returns filtered list. Similar to map, filter accepts a function and a list. The only difference is, the function should return boolean (T,F) values instead of numbers. Filter will then make a new list with True values.</span></p>\n",
        "<p><strong>list(filter(lambda num: num%2 == 0, seq)) =&gt; </strong><span style=\"font-weight: 400;\">[2,4]; # Remember, lambda function must return </span><strong>True </strong><span style=\"font-weight: 400;\">or</span><strong> False</strong><span style=\"font-weight: 400;\"> for the </span><strong>filter </strong><span style=\"font-weight: 400;\">to work.</span></p>\n",
        "<p>&nbsp;</p>\n",
        "<p><strong>Method. </strong><span style=\"font-weight: 400;\">Most of the object can have a method to perform some operations on that object.</span></p>\n",
        "<p><strong>s=&rsquo;hello moto&rsquo; &rArr; s.upper() =&gt; </strong><span style=\"font-weight: 400;\">&lsquo;HELLO MOTO&rsquo;; # you can always check what methods are available for the object by pressing TAB after the dot (</span><strong>s. Tab</strong><span style=\"font-weight: 400;\">).</span></p>\n",
        "<p>&nbsp;</p>\n",
        "<p><strong>Split</strong><strong> method. </strong><span style=\"font-weight: 400;\">&nbsp;It splits strings by a specified character. Whitespace by default.&nbsp;</span></p>\n",
        "<p><span style=\"font-weight: 400;\">&nbsp;</span><strong>s.split() =&gt; [</strong><span style=\"font-weight: 400;\">&lsquo;hello&rsquo;,&rsquo;moto&rsquo;] &rArr; </span><strong>s.split(&lsquo;o&rsquo;) =&gt; </strong><strong>['hell', ' m', 't', '']</strong></p>\n",
        "<p>&nbsp;</p>\n",
        "<p><strong>Dictionary</strong><strong> key, value method. </strong><span style=\"font-weight: 400;\">We can grab keys, values, items (e.g. elements) in the dictionary using following methods:</span></p>\n",
        "<p><strong>d = {'key1': 9,'key2': 5} &rArr;&nbsp;</strong></p>\n",
        "<p><strong>d.keys() =&gt; </strong><strong>dict_keys(['key1', 'key2'])</strong></p>\n",
        "<p><strong>d.items() =&gt; </strong><strong>dict_items([('key1', 9), ('key2', 5)])</strong></p>\n",
        "<p><strong>d.values() =&gt; </strong><strong>dict_values([9, 5])</strong></p>\n",
        "<p><span style=\"font-weight: 400;\">If values result in a list with numbers, then we can perform more operations:&nbsp;</span></p>\n",
        "<p><strong>list(map(lambda i: i**2, d.values())) =&gt; </strong><span style=\"font-weight: 400;\">[81,25]</span><span style=\"font-weight: 400;\"><br /><br /></span></p>\n",
        "<p><strong>pop</strong><strong> from list. </strong><span style=\"font-weight: 400;\">&nbsp;&nbsp;Pop removes last element from a list. Element index can also be specified for removal. </span><strong>lst=[1,2,3] &rArr; lst.pop() =&gt; </strong><span style=\"font-weight: 400;\">3; #pop returns the value of the removed element.</span></p>\n",
        "<p><strong>lst.pop(0) =&gt; </strong><span style=\"font-weight: 400;\">[2]; # After removing the first element and last element, we are left with only 2.</span></p>\n",
        "<p><strong>Other useful commands</strong></p>\n",
        "<p><strong>in</strong><span style=\"font-weight: 400;\"> list search. </span><strong>in </strong><span style=\"font-weight: 400;\">is useful to check if an item exists in the list. Returns T/F only.&nbsp;</span></p>\n",
        "<p><strong>'x' in [1,2,3] =&gt; </strong><span style=\"font-weight: 400;\">false;</span> <strong>'x' in ['x','y','z'] =&gt; </strong><span style=\"font-weight: 400;\">true;</span></p>\n",
        "<p><strong>tuple</strong><span style=\"font-weight: 400;\">&nbsp; </span><strong>unpacking. </strong><span style=\"font-weight: 400;\">Like dictionaries which has key and value, tuples with paired elements can be used by their element indices. We need a list with tuples:</span></p>\n",
        "<p><strong>x=[ (1, 2), (3, 4), (5, 6)] &rArr;</strong> <strong>for item in x: print(item) =&gt; </strong><span style=\"font-weight: 400;\">(1,2) &rArr;&nbsp; (3,4) &rArr; (5,6)</span></p>\n",
        "<p><strong>for (a, b) in x: print(a) =&gt; </strong><span style=\"font-weight: 400;\">[1,3,5]</span></p>\n",
        "<p><strong>From comments</strong></p>\n",
        "<p><span style=\"font-weight: 400;\">dict() </span><span style=\"font-weight: 400;\">you can create a dictionary using a list assignment.</span></p>\n",
        "<p><strong>dict(a=[1,2,3]) </strong><span style=\"font-weight: 400;\">=&gt; </span><span style=\"font-weight: 400;\">{'a': [1, 2, 3]}</span></p>\n",
        "<p><strong>insert(). </strong><span style=\"font-weight: 400;\">We can insert an element to a list at any specified position using insert method.</span></p>\n",
        "<ul>\n",
        "<li style=\"font-weight: 400;\"><span style=\"font-weight: 400;\">mylist = [1,2,3]</span></li>\n",
        "<li style=\"font-weight: 400;\"><span style=\"font-weight: 400;\">&nbsp;</span></li>\n",
        "<li style=\"font-weight: 400;\"><span style=\"font-weight: 400;\">mylist.insert(2,4) </span><span style=\"font-weight: 400;\"># insert the number 4 before index position 2</span></li>\n",
        "<li style=\"font-weight: 400;\"><span style=\"font-weight: 400;\">&nbsp;</span></li>\n",
        "<li style=\"font-weight: 400;\"><span style=\"font-weight: 400;\">mylist</span></li>\n",
        "<li style=\"font-weight: 400;\"><span style=\"font-weight: 400;\"># Output: [1, 2, 4, 3]</span></li>\n",
        "</ul>\n",
        "<p><strong>timeit(). </strong><span style=\"font-weight: 400;\">We can check the time spent for performing for some functions using timeit().</span></p>\n",
        "<p><strong>Import timeit &rArr; timeit.timeit(&lsquo;list(map(lambda i: i**2, d.values()))&rsquo;, number=10000)</strong></p>"
      ]
    },
    {
      "cell_type": "markdown",
      "metadata": {
        "id": "cBeb6-9NPusq",
        "colab_type": "text"
      },
      "source": [
        "**spent total of 12 hours to study and get familiar with topics covered until now"
      ]
    }
  ]
}