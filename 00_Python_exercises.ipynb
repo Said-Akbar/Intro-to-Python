{
  "nbformat": 4,
  "nbformat_minor": 0,
  "metadata": {
    "kernelspec": {
      "display_name": "Python 3",
      "language": "python",
      "name": "python3"
    },
    "language_info": {
      "codemirror_mode": {
        "name": "ipython",
        "version": 3
      },
      "file_extension": ".py",
      "mimetype": "text/x-python",
      "name": "python",
      "nbconvert_exporter": "python",
      "pygments_lexer": "ipython3",
      "version": "3.6.2"
    },
    "colab": {
      "name": "02-Python Crash Course Exercises.ipynb",
      "version": "0.3.2",
      "provenance": [],
      "collapsed_sections": [],
      "include_colab_link": true
    }
  },
  "cells": [
    {
      "cell_type": "markdown",
      "metadata": {
        "id": "view-in-github",
        "colab_type": "text"
      },
      "source": [
        "<a href=\"https://colab.research.google.com/github/Said-Akbar/Intro-to-Python/blob/master/Python_Crash_Course_Exercises.ipynb\" target=\"_parent\"><img src=\"https://colab.research.google.com/assets/colab-badge.svg\" alt=\"Open In Colab\"/></a>"
      ]
    },
    {
      "cell_type": "markdown",
      "metadata": {
        "id": "8dlKVuBDPV2V",
        "colab_type": "text"
      },
      "source": [
        "\n",
        "# Python Crash Course Exercises \n",
        "I will post my solutions to the problem sets for each topic from the Python for DS and ML course by Jose Portilla, which I am taking at the moment along with other Data Science (DS) courses. These are very basic introductory exercises and should be considered by those who are new to DS.\n",
        "From the next line, the content and exercises are from the lecture. The solutions are solved by me and there are multiple ways of solving the exercises. My way of solving may not be the best but it should be acceptable for beginner level learners.\n",
        "\n",
        "---------------------------\n",
        "\n",
        "This is an optional exercise to test your understanding of Python Basics. If you find this extremely challenging, then you probably are not ready for the rest of this course yet and don't have enough programming experience to continue. I would suggest you take another course more geared towards complete beginners, such as [Complete Python Bootcamp](https://www.udemy.com/complete-python-bootcamp/?couponCode=PY20)"
      ]
    },
    {
      "cell_type": "markdown",
      "metadata": {
        "id": "-9LWsTB2PV2X",
        "colab_type": "text"
      },
      "source": [
        "## Exercises\n",
        "\n",
        "Answer the questions or complete the tasks outlined in bold below, use the specific method described if applicable."
      ]
    },
    {
      "cell_type": "markdown",
      "metadata": {
        "id": "IqXfVxU6PV2Z",
        "colab_type": "text"
      },
      "source": [
        "** What is 7 to the power of 4?**"
      ]
    },
    {
      "cell_type": "code",
      "metadata": {
        "id": "tKjxMyROPV2b",
        "colab_type": "code",
        "outputId": "200cfc6b-9348-4097-ef3d-8b04de3671b6",
        "colab": {
          "base_uri": "https://localhost:8080/",
          "height": 34
        }
      },
      "source": [
        "7**4"
      ],
      "execution_count": 0,
      "outputs": [
        {
          "output_type": "execute_result",
          "data": {
            "text/plain": [
              "2401"
            ]
          },
          "metadata": {
            "tags": []
          },
          "execution_count": 1
        }
      ]
    },
    {
      "cell_type": "markdown",
      "metadata": {
        "id": "M5xHh4zMPV2m",
        "colab_type": "text"
      },
      "source": [
        "** Split this string:**\n",
        "\n",
        "    s = \"Hi there Sam!\"\n",
        "    \n",
        "**into a list. **"
      ]
    },
    {
      "cell_type": "code",
      "metadata": {
        "id": "YIQzgwi1PV2o",
        "colab_type": "code",
        "colab": {}
      },
      "source": [
        "s = \"Hi there Sam!\""
      ],
      "execution_count": 0,
      "outputs": []
    },
    {
      "cell_type": "code",
      "metadata": {
        "id": "VJLxEVibPV2t",
        "colab_type": "code",
        "outputId": "b22a657f-efeb-4dc0-b47e-0bce31f9b268",
        "colab": {
          "base_uri": "https://localhost:8080/",
          "height": 34
        }
      },
      "source": [
        "s.split()"
      ],
      "execution_count": 0,
      "outputs": [
        {
          "output_type": "execute_result",
          "data": {
            "text/plain": [
              "['Hi', 'there', 'Sam!']"
            ]
          },
          "metadata": {
            "tags": []
          },
          "execution_count": 3
        }
      ]
    },
    {
      "cell_type": "markdown",
      "metadata": {
        "id": "uloTWfyVPV22",
        "colab_type": "text"
      },
      "source": [
        "** Given the variables:**\n",
        "\n",
        "    planet = \"Earth\"\n",
        "    diameter = 12742\n",
        "\n",
        "** Use .format() to print the following string: **\n",
        "\n",
        "    The diameter of Earth is 12742 kilometers."
      ]
    },
    {
      "cell_type": "code",
      "metadata": {
        "id": "FG9tKTF5PV24",
        "colab_type": "code",
        "colab": {}
      },
      "source": [
        "planet = \"Earth\"\n",
        "diameter = 12742"
      ],
      "execution_count": 0,
      "outputs": []
    },
    {
      "cell_type": "code",
      "metadata": {
        "id": "ySJIeteXPV2-",
        "colab_type": "code",
        "outputId": "b14d68ec-6415-4ca6-fbb8-cde919640e83",
        "colab": {
          "base_uri": "https://localhost:8080/",
          "height": 34
        }
      },
      "source": [
        "print(\"the diameter of {} is {} kilometers\".format(planet, diameter))"
      ],
      "execution_count": 0,
      "outputs": [
        {
          "output_type": "stream",
          "text": [
            "the diameter of Earth is 12742 kilometers\n"
          ],
          "name": "stdout"
        }
      ]
    },
    {
      "cell_type": "markdown",
      "metadata": {
        "id": "X8p6qsA5PV3F",
        "colab_type": "text"
      },
      "source": [
        "** Given this nested list, use indexing to grab the word \"hello\" **"
      ]
    },
    {
      "cell_type": "code",
      "metadata": {
        "id": "1UceqNCIPV3I",
        "colab_type": "code",
        "colab": {}
      },
      "source": [
        "lst = [1,2,[3,4],[5,[100,200,['hello']],23,11],1,7]"
      ],
      "execution_count": 0,
      "outputs": []
    },
    {
      "cell_type": "code",
      "metadata": {
        "id": "Lqh0NpFHPV3N",
        "colab_type": "code",
        "outputId": "645da7f0-945f-4b6e-f445-92c4179f470d",
        "colab": {
          "base_uri": "https://localhost:8080/",
          "height": 34
        }
      },
      "source": [
        "lst[3][1][2][0]"
      ],
      "execution_count": 0,
      "outputs": [
        {
          "output_type": "execute_result",
          "data": {
            "text/plain": [
              "'hello'"
            ]
          },
          "metadata": {
            "tags": []
          },
          "execution_count": 10
        }
      ]
    },
    {
      "cell_type": "markdown",
      "metadata": {
        "id": "VPgrYZ1IPV3V",
        "colab_type": "text"
      },
      "source": [
        "** Given this nested dictionary grab the word \"hello\". Be prepared, this will be annoying/tricky **"
      ]
    },
    {
      "cell_type": "code",
      "metadata": {
        "id": "7Fw4xuJUPV3X",
        "colab_type": "code",
        "colab": {}
      },
      "source": [
        "d = {'k1':[1,2,3,{'tricky':['oh','man','inception',{'target':[1,2,3,'hello']}]}]}"
      ],
      "execution_count": 0,
      "outputs": []
    },
    {
      "cell_type": "code",
      "metadata": {
        "id": "41AjtYPKPV3f",
        "colab_type": "code",
        "outputId": "adbe1c5a-09a5-4bc2-a2f5-7e8388338c22",
        "colab": {
          "base_uri": "https://localhost:8080/",
          "height": 34
        }
      },
      "source": [
        "d['k1'][3]['tricky'][3]['target'][3]"
      ],
      "execution_count": 0,
      "outputs": [
        {
          "output_type": "execute_result",
          "data": {
            "text/plain": [
              "'hello'"
            ]
          },
          "metadata": {
            "tags": []
          },
          "execution_count": 17
        }
      ]
    },
    {
      "cell_type": "markdown",
      "metadata": {
        "id": "Ac9jf3WDPV3m",
        "colab_type": "text"
      },
      "source": [
        "** What is the main difference between a tuple and a list? **"
      ]
    },
    {
      "cell_type": "code",
      "metadata": {
        "id": "IUjuo4jePV3n",
        "colab_type": "code",
        "colab": {}
      },
      "source": [
        "# Tuple is immutable"
      ],
      "execution_count": 0,
      "outputs": []
    },
    {
      "cell_type": "markdown",
      "metadata": {
        "id": "zQ6VxeSePV3s",
        "colab_type": "text"
      },
      "source": [
        "** Create a function that grabs the email website domain from a string in the form: **\n",
        "\n",
        "    user@domain.com\n",
        "    \n",
        "**So for example, passing \"user@domain.com\" would return: domain.com**"
      ]
    },
    {
      "cell_type": "code",
      "metadata": {
        "id": "OQO-8yEoPV3t",
        "colab_type": "code",
        "colab": {}
      },
      "source": [
        "def domainGet(email):\n",
        "  return email.split('@')[1]"
      ],
      "execution_count": 0,
      "outputs": []
    },
    {
      "cell_type": "code",
      "metadata": {
        "id": "7ZszkCQIPV3z",
        "colab_type": "code",
        "outputId": "1deebc13-765f-431d-aba7-3fc76b05b553",
        "colab": {
          "base_uri": "https://localhost:8080/",
          "height": 34
        }
      },
      "source": [
        "domainGet('user@domain.com')"
      ],
      "execution_count": 0,
      "outputs": [
        {
          "output_type": "execute_result",
          "data": {
            "text/plain": [
              "'domain.com'"
            ]
          },
          "metadata": {
            "tags": []
          },
          "execution_count": 19
        }
      ]
    },
    {
      "cell_type": "markdown",
      "metadata": {
        "id": "VPRW6nhRPV35",
        "colab_type": "text"
      },
      "source": [
        "** Create a basic function that returns True if the word 'dog' is contained in the input string. Don't worry about edge cases like a punctuation being attached to the word dog, but do account for capitalization. **"
      ]
    },
    {
      "cell_type": "code",
      "metadata": {
        "id": "uXBsDsmtPV37",
        "colab_type": "code",
        "colab": {}
      },
      "source": [
        "def findDog(string):\n",
        "  if 'dog' in string.lower().split():\n",
        "    return True\n",
        "  return False"
      ],
      "execution_count": 0,
      "outputs": []
    },
    {
      "cell_type": "code",
      "metadata": {
        "id": "pYCr9lY7PV4I",
        "colab_type": "code",
        "outputId": "a9bf2a94-0136-4794-a66f-f8dbaf27082a",
        "colab": {
          "base_uri": "https://localhost:8080/",
          "height": 34
        }
      },
      "source": [
        "findDog('Is there a dog here?')"
      ],
      "execution_count": 0,
      "outputs": [
        {
          "output_type": "execute_result",
          "data": {
            "text/plain": [
              "True"
            ]
          },
          "metadata": {
            "tags": []
          },
          "execution_count": 22
        }
      ]
    },
    {
      "cell_type": "markdown",
      "metadata": {
        "id": "eDHr6ArPPV4R",
        "colab_type": "text"
      },
      "source": [
        "** Create a function that counts the number of times the word \"dog\" occurs in a string. Again ignore edge cases. **"
      ]
    },
    {
      "cell_type": "code",
      "metadata": {
        "id": "9ryn10XOPV4T",
        "colab_type": "code",
        "colab": {}
      },
      "source": [
        "def countDog(string):\n",
        "  return sum([i=='dog' for i in string.lower().split()])"
      ],
      "execution_count": 0,
      "outputs": []
    },
    {
      "cell_type": "code",
      "metadata": {
        "id": "4l50pFWMPV4Z",
        "colab_type": "code",
        "outputId": "bb3168d4-2947-4ee6-fe08-96345163a494",
        "colab": {
          "base_uri": "https://localhost:8080/",
          "height": 34
        }
      },
      "source": [
        "countDog('This dog runs faster than the other dog dude!')"
      ],
      "execution_count": 8,
      "outputs": [
        {
          "output_type": "execute_result",
          "data": {
            "text/plain": [
              "2"
            ]
          },
          "metadata": {
            "tags": []
          },
          "execution_count": 8
        }
      ]
    },
    {
      "cell_type": "markdown",
      "metadata": {
        "id": "JWm85Q6jPV4j",
        "colab_type": "text"
      },
      "source": [
        "** Use lambda expressions and the filter() function to filter out words from a list that don't start with the letter 's'. For example:**\n",
        "\n",
        "    seq = ['soup','dog','salad','cat','great']\n",
        "\n",
        "**should be filtered down to:**\n",
        "\n",
        "    ['soup','salad']"
      ]
    },
    {
      "cell_type": "code",
      "metadata": {
        "id": "K3i8ehJIPV4m",
        "colab_type": "code",
        "colab": {}
      },
      "source": [
        "seq = ['soup','dog','salad','cat','great']"
      ],
      "execution_count": 0,
      "outputs": []
    },
    {
      "cell_type": "code",
      "metadata": {
        "id": "HzvVlVFxPV4r",
        "colab_type": "code",
        "outputId": "6a240abd-297f-456c-cfc3-f2db3a2dbe9b",
        "colab": {
          "base_uri": "https://localhost:8080/",
          "height": 34
        }
      },
      "source": [
        "list(filter(lambda name: name in ['soup','salad'], seq))"
      ],
      "execution_count": 11,
      "outputs": [
        {
          "output_type": "execute_result",
          "data": {
            "text/plain": [
              "['soup', 'salad']"
            ]
          },
          "metadata": {
            "tags": []
          },
          "execution_count": 11
        }
      ]
    },
    {
      "cell_type": "markdown",
      "metadata": {
        "id": "b5MA0uL2PV4x",
        "colab_type": "text"
      },
      "source": [
        "### Final Problem\n",
        "**You are driving a little too fast, and a police officer stops you. Write a function\n",
        "  to return one of 3 possible results: \"No ticket\", \"Small ticket\", or \"Big Ticket\". \n",
        "  If your speed is 60 or less, the result is \"No Ticket\". If speed is between 61 \n",
        "  and 80 inclusive, the result is \"Small Ticket\". If speed is 81 or more, the result is \"Big    Ticket\". Unless it is your birthday (encoded as a boolean value in the parameters of the function) -- on your birthday, your speed can be 5 higher in all \n",
        "  cases. **"
      ]
    },
    {
      "cell_type": "code",
      "metadata": {
        "id": "ggzc9anhPV4z",
        "colab_type": "code",
        "colab": {}
      },
      "source": [
        "def caught_speeding(speed, is_birthday):\n",
        "  sp=0\n",
        "  if is_birthday:\n",
        "    sp=5\n",
        "  if speed<=(60+sp):\n",
        "    return 'No Ticket'\n",
        "  elif speed>=(81+sp):\n",
        "    return 'Big Ticket'\n",
        "  else:\n",
        "    return 'Small Ticket'"
      ],
      "execution_count": 0,
      "outputs": []
    },
    {
      "cell_type": "code",
      "metadata": {
        "id": "bPLpkFmwPV44",
        "colab_type": "code",
        "outputId": "7add3008-02ae-46a9-d53c-ab26af09d23e",
        "colab": {
          "base_uri": "https://localhost:8080/",
          "height": 34
        }
      },
      "source": [
        "caught_speeding(81,True)"
      ],
      "execution_count": 13,
      "outputs": [
        {
          "output_type": "execute_result",
          "data": {
            "text/plain": [
              "'Small Ticket'"
            ]
          },
          "metadata": {
            "tags": []
          },
          "execution_count": 13
        }
      ]
    },
    {
      "cell_type": "code",
      "metadata": {
        "id": "qoRqYgHbPV4-",
        "colab_type": "code",
        "outputId": "ba27b346-d30d-45c0-d893-0195abfcc74d",
        "colab": {
          "base_uri": "https://localhost:8080/",
          "height": 34
        }
      },
      "source": [
        "caught_speeding(81,False)"
      ],
      "execution_count": 14,
      "outputs": [
        {
          "output_type": "execute_result",
          "data": {
            "text/plain": [
              "'Big Ticket'"
            ]
          },
          "metadata": {
            "tags": []
          },
          "execution_count": 14
        }
      ]
    },
    {
      "cell_type": "markdown",
      "metadata": {
        "id": "csMpxdsnPV5F",
        "colab_type": "text"
      },
      "source": [
        "# Great job!"
      ]
    }
  ]
}
